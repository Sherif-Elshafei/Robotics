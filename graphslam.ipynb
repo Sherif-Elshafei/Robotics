{
 "cells": [
  {
   "cell_type": "code",
   "execution_count": 55,
   "id": "dd3756c7",
   "metadata": {},
   "outputs": [
    {
     "name": "stdout",
     "output_type": "stream",
     "text": [
      "2\n",
      "2\n",
      "[[50.  ]\n",
      " [50.  ]\n",
      " [16.  ]\n",
      " [ 9.6 ]\n",
      " [39.32]\n",
      " [31.44]\n",
      " [23.68]\n",
      " [20.89]]\n",
      "(8, 1)\n"
     ]
    }
   ],
   "source": [
    "import numpy as np\n",
    "\n",
    "a=np.array( [[1,0,0,0,0,0],\n",
    "           [0,1,0,0,0,0],\n",
    "           [-1,0,1,0,0,0],\n",
    "           [0,-1,0,1,0,0],\n",
    "           [-1,0,0,0,1,0],\n",
    "           [0,-1,0,0,0,1],\n",
    "           [0,0,-1,0,1,0],\n",
    "           [0,0,0,-1,0,1]] )\n",
    "\n",
    "print(a.ndim)\n",
    "\n",
    "#B=np.array([[50],[50],[17.32],[10],[40],[30],[22.68],[20]])\n",
    "B=np.array([[50],[50],[16],[9.6],[39.32],[31.44],[23.68],[20.89]])\n",
    "\n",
    "print(B.ndim)\n",
    "print(B)\n",
    "#print(np.linalg.inv(B))\n",
    "print(B.shape)"
   ]
  },
  {
   "cell_type": "code",
   "execution_count": 56,
   "id": "40325e45",
   "metadata": {},
   "outputs": [
    {
     "name": "stderr",
     "output_type": "stream",
     "text": [
      "/tmp/ipykernel_4697/67793016.py:8: FutureWarning: `rcond` parameter will change to the default of machine precision times ``max(M, N)`` where M and N are the input matrix dimensions.\n",
      "To use the future default and silence this warning we advise to pass `rcond=None`, to keep using the old, explicitly pass `rcond=-1`.\n",
      "  np.linalg.lstsq(a,p,rcond='warn')\n"
     ]
    },
    {
     "data": {
      "text/plain": [
       "(array([[50.        ],\n",
       "        [50.        ],\n",
       "        [65.88      ],\n",
       "        [59.91666667],\n",
       "        [89.44      ],\n",
       "        [81.12333333]]),\n",
       " array([1.59744333e-29]),\n",
       " 6,\n",
       " array([1.93185165, 1.93185165, 1.73205081, 1.73205081, 0.51763809,\n",
       "        0.51763809]))"
      ]
     },
     "execution_count": 56,
     "metadata": {},
     "output_type": "execute_result"
    }
   ],
   "source": [
    "#P = a*np.linalg.inv(np.transpose(a)*a)*np.transpose(a)\n",
    "aT = np.transpose(a)\n",
    "m1=np.matmul(aT,a)\n",
    "m2=np.linalg.inv(m1)\n",
    "m3=np.matmul(a,m2)\n",
    "P=np.matmul(m3,aT)\n",
    "p=np.matmul(P,B)\n",
    "np.linalg.lstsq(a,p,rcond='warn')\n"
   ]
  }
 ],
 "metadata": {
  "kernelspec": {
   "display_name": "Python 3 (ipykernel)",
   "language": "python",
   "name": "python3"
  },
  "language_info": {
   "codemirror_mode": {
    "name": "ipython",
    "version": 3
   },
   "file_extension": ".py",
   "mimetype": "text/x-python",
   "name": "python",
   "nbconvert_exporter": "python",
   "pygments_lexer": "ipython3",
   "version": "3.10.6"
  }
 },
 "nbformat": 4,
 "nbformat_minor": 5
}
